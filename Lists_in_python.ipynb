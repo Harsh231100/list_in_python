{
 "cells": [
  {
   "cell_type": "markdown",
   "id": "d62b3e38",
   "metadata": {},
   "source": [
    "# Lists in Python"
   ]
  },
  {
   "cell_type": "markdown",
   "id": "67d1d15b",
   "metadata": {},
   "source": [
    "* List is a sequence data type which is used to store the collection of data. A list is a collection of things, enclosed in [ ] and separated by commas. \n",
    "* List is a collection which is ordered and changeable. Allows duplicate members."
   ]
  },
  {
   "cell_type": "markdown",
   "id": "2e84cf19",
   "metadata": {},
   "source": [
    "* lists are a collection in python, and they are hetrogeneous in nature.\n",
    "* i;e means they can store multiple elements which belong to multiple data types/classes\n",
    "* lists are denoted by [ ], we enclose our elements within square braces [ ]\n",
    "* empty list = []\n",
    "* we seperate elements in list by ,\n",
    "* lists are ordered and sequence in nature\n",
    "* lists are indexable and be sliced\n",
    "* lists are mutable.\n",
    "* when calling a method results in updation of list, these updation are reflected in same memory location and are applied on same variable, unlike string, we don't have reassign to make them reflect original variable\n",
    "* list are dynamic in nature"
   ]
  },
  {
   "cell_type": "markdown",
   "id": "2f81437e",
   "metadata": {},
   "source": [
    "![](https://scaler.com/topics/images/list_methods_in_python.webp)"
   ]
  },
  {
   "cell_type": "code",
   "execution_count": 1,
   "id": "0c962e14",
   "metadata": {},
   "outputs": [
    {
     "name": "stdout",
     "output_type": "stream",
     "text": [
      "[10, 5.3, (2+3j), 'Harsh', True, <built-in function print>, <class 'range'>]\n",
      "<class 'list'>\n",
      "2098267845952\n"
     ]
    }
   ],
   "source": [
    "x = [10, 5.3, 2+3j, 'Harsh', True, print, range]\n",
    "\n",
    "print(x, type(x), id(x), sep = '\\n')"
   ]
  },
  {
   "cell_type": "code",
   "execution_count": 2,
   "id": "6efba7c0",
   "metadata": {},
   "outputs": [
    {
     "name": "stdout",
     "output_type": "stream",
     "text": [
      "[10, 20, 30, 40, 50, 60]\n",
      "<class 'list'>\n",
      "2098267845440\n"
     ]
    }
   ],
   "source": [
    "x = [10,20,30,40,50,60]\n",
    "\n",
    "print(x, type(x), id(x), sep = '\\n')"
   ]
  },
  {
   "cell_type": "markdown",
   "id": "a1bc79ac",
   "metadata": {},
   "source": [
    "## Access List Items\n",
    "\n",
    "* To access values or elements in list, we can use indexing or slicing."
   ]
  },
  {
   "cell_type": "markdown",
   "id": "cb3dd2cc",
   "metadata": {},
   "source": [
    "### Indexing"
   ]
  },
  {
   "cell_type": "markdown",
   "id": "5fd8cf56",
   "metadata": {},
   "source": [
    "* Positive Index\n",
    "     * In the case of Positive Indexing, the first element of the list has the index number 0, and the last element of the list has the index number n-1, where n is the total number of elements in the list.\n",
    "* Negative Index\n",
    "    * In the case of Negative Indexing, Index -1 represents the last element and -n represents the first element of the list, where n is the length of the list"
   ]
  },
  {
   "cell_type": "markdown",
   "id": "b4d014b6",
   "metadata": {},
   "source": [
    "![](https://www.scaler.com/topics/media/elements-in-python-list-1024x495.webp)"
   ]
  },
  {
   "cell_type": "code",
   "execution_count": 4,
   "id": "b64c2e17",
   "metadata": {},
   "outputs": [
    {
     "name": "stdout",
     "output_type": "stream",
     "text": [
      "40\n",
      "20\n"
     ]
    }
   ],
   "source": [
    "# positive indexing\n",
    "\n",
    "x = [10,20,30,40,50,60]\n",
    "\n",
    "print(x[3])\n",
    "print(x[1])\n"
   ]
  },
  {
   "cell_type": "code",
   "execution_count": 5,
   "id": "f52a653c",
   "metadata": {},
   "outputs": [
    {
     "name": "stdout",
     "output_type": "stream",
     "text": [
      "50\n",
      "60\n"
     ]
    }
   ],
   "source": [
    "# Negative indexing\n",
    "\n",
    "x = [10,20,30,40,50,60]\n",
    "\n",
    "print(x[-2])\n",
    "print(x[-1])"
   ]
  },
  {
   "cell_type": "markdown",
   "id": "3e37daa6",
   "metadata": {},
   "source": [
    "### Slicing"
   ]
  },
  {
   "cell_type": "markdown",
   "id": "67dfcfea",
   "metadata": {},
   "source": [
    "* Positive slicing\n",
    "    * In positive slicing, we move from left to right and the starting index is 0 and the end index is n and step is 1, where n is len of the list.\n",
    "* Negative slicing\n",
    "    * In negative slicing, we move from right to left and the starting index is -1 and the end index is n+1 and step is -1, where n is len of the list."
   ]
  },
  {
   "cell_type": "code",
   "execution_count": 6,
   "id": "08e9f8d1",
   "metadata": {},
   "outputs": [
    {
     "name": "stdout",
     "output_type": "stream",
     "text": [
      "[10, 20, 30, 40, 50, 60]\n",
      "[10, 30, 50]\n"
     ]
    }
   ],
   "source": [
    "# Positive slicing\n",
    "\n",
    "x = [10,20,30,40,50,60]\n",
    "\n",
    "print(x[::])\n",
    "print(x[0:6:2])"
   ]
  },
  {
   "cell_type": "code",
   "execution_count": 8,
   "id": "a327ec6b",
   "metadata": {},
   "outputs": [
    {
     "name": "stdout",
     "output_type": "stream",
     "text": [
      "[60, 50, 40, 30, 20, 10]\n",
      "[60, 50, 40, 30, 20, 10]\n",
      "[60, 40, 20]\n"
     ]
    }
   ],
   "source": [
    "# Negative slicing\n",
    "\n",
    "x = [10,20,30,40,50,60]\n",
    "\n",
    "print(x[::-1])\n",
    "print(x[-1:-7:-1])\n",
    "print(x[-1:-7:-2])"
   ]
  },
  {
   "cell_type": "markdown",
   "id": "4150b004",
   "metadata": {},
   "source": [
    "## Creating a list"
   ]
  },
  {
   "cell_type": "markdown",
   "id": "a6fbb1f3",
   "metadata": {},
   "source": [
    "* Lists in Python can be created by just placing the sequence inside the square brackets[] or list().\n",
    "\n",
    "* To create a list --\n",
    "    * using sqaure braces[ ]\n",
    "    * using class list"
   ]
  },
  {
   "cell_type": "code",
   "execution_count": 9,
   "id": "887ee3bc",
   "metadata": {},
   "outputs": [
    {
     "name": "stdout",
     "output_type": "stream",
     "text": [
      "['Harshit']\n",
      "<class 'list'>\n",
      "1\n",
      "2098267067968\n"
     ]
    }
   ],
   "source": [
    "z = ['Harshit']\n",
    "\n",
    "print((z),type(z),len(z), id(z), sep = '\\n')"
   ]
  },
  {
   "cell_type": "code",
   "execution_count": 10,
   "id": "11984130",
   "metadata": {},
   "outputs": [
    {
     "name": "stdout",
     "output_type": "stream",
     "text": [
      "['H', 'a', 'r', 's', 'h', 'i', 't']\n",
      "<class 'list'>\n",
      "7\n",
      "2098267737536\n"
     ]
    }
   ],
   "source": [
    "z = list('Harshit')\n",
    "\n",
    "print((z),type(z),len(z), id(z), sep = '\\n')"
   ]
  },
  {
   "cell_type": "code",
   "execution_count": 11,
   "id": "0d07a77a",
   "metadata": {},
   "outputs": [
    {
     "name": "stdout",
     "output_type": "stream",
     "text": [
      "[]\n",
      "<class 'list'>\n",
      "0\n",
      "2098267067968\n"
     ]
    }
   ],
   "source": [
    "z = []\n",
    "\n",
    "print((z),type(z),len(z), id(z), sep = '\\n')"
   ]
  },
  {
   "cell_type": "code",
   "execution_count": 12,
   "id": "3d9c3def",
   "metadata": {
    "scrolled": true
   },
   "outputs": [
    {
     "name": "stdout",
     "output_type": "stream",
     "text": [
      "[33, 66, 'harsh', 22, 55, 11, 44]\n",
      "<class 'list'>\n",
      "7\n",
      "0x1e88a80d640\n"
     ]
    }
   ],
   "source": [
    "z = list({11,22,33,44,55,66,'harsh'})\n",
    "\n",
    "print((z),type(z),len(z), hex(id(z)), sep = '\\n')"
   ]
  },
  {
   "cell_type": "markdown",
   "id": "1a9bd43b",
   "metadata": {},
   "source": [
    "### Length of List\n",
    "* len() is used to get the length of the list."
   ]
  },
  {
   "cell_type": "code",
   "execution_count": 30,
   "id": "cef8e17d",
   "metadata": {},
   "outputs": [
    {
     "name": "stdout",
     "output_type": "stream",
     "text": [
      "8\n"
     ]
    }
   ],
   "source": [
    "x = [11,22,33,44,55,66,44,22]\n",
    "print(len(x))"
   ]
  },
  {
   "cell_type": "markdown",
   "id": "7825fb44",
   "metadata": {},
   "source": [
    "### Nested list"
   ]
  },
  {
   "cell_type": "markdown",
   "id": "d4da5876",
   "metadata": {},
   "source": [
    "* A list that has other lists as its elements is a nested list."
   ]
  },
  {
   "cell_type": "code",
   "execution_count": 13,
   "id": "e0766774",
   "metadata": {},
   "outputs": [
    {
     "name": "stdout",
     "output_type": "stream",
     "text": [
      "[11, 22, 33, [44, 55, 66]]\n",
      "<class 'list'>\n",
      "4\n",
      "0x1e88a8207c0\n"
     ]
    }
   ],
   "source": [
    "x = [11,22,33,[44,55,66]]\n",
    "\n",
    "print((x),type(x),len(x), hex(id(x)), sep = '\\n')"
   ]
  },
  {
   "cell_type": "code",
   "execution_count": 14,
   "id": "81a0ee10",
   "metadata": {},
   "outputs": [
    {
     "name": "stdout",
     "output_type": "stream",
     "text": [
      "22\n",
      "[44, 55, 66]\n"
     ]
    }
   ],
   "source": [
    "# indexing\n",
    "\n",
    "x = [11,22,33,[44,55,66]]\n",
    "\n",
    "print(x[1])\n",
    "print(x[3])"
   ]
  },
  {
   "cell_type": "code",
   "execution_count": 29,
   "id": "740e7782",
   "metadata": {},
   "outputs": [
    {
     "name": "stdout",
     "output_type": "stream",
     "text": [
      "[11, 22]\n",
      "[66, 55, 44]\n",
      "[66, 44]\n"
     ]
    }
   ],
   "source": [
    "# slicing\n",
    "\n",
    "x = [11,22,33,[44,55,66]]\n",
    "\n",
    "print(x[0:2])\n",
    "print(x[3][::-1])\n",
    "print(x[3][::-2])"
   ]
  },
  {
   "cell_type": "markdown",
   "id": "e91b66e5",
   "metadata": {},
   "source": [
    "## range"
   ]
  },
  {
   "cell_type": "markdown",
   "id": "0d4caf1e",
   "metadata": {},
   "source": [
    "* range() populates a numbers within a given range. syntax for range() is\n",
    "\n",
    "    * range(start, end, step)\n",
    "\n",
    "        * start is starting number\n",
    "\n",
    "        * end is till end, not including end\n",
    "\n",
    "        * step is the step size\n",
    "\n",
    "        * like in strings, we can have a negative step in range\n",
    "\n",
    "    * default values of start is zero and step is +1"
   ]
  },
  {
   "cell_type": "code",
   "execution_count": 16,
   "id": "eb761833",
   "metadata": {},
   "outputs": [
    {
     "name": "stdout",
     "output_type": "stream",
     "text": [
      "range(11, 21)\n",
      "<class 'range'>\n",
      "10\n",
      "0x1e88a7955f0\n"
     ]
    }
   ],
   "source": [
    "r = range(11,21)\n",
    "\n",
    "print((r),type(r),len(r), hex(id(r)), sep = '\\n')"
   ]
  },
  {
   "cell_type": "code",
   "execution_count": 18,
   "id": "9e190466",
   "metadata": {},
   "outputs": [
    {
     "name": "stdout",
     "output_type": "stream",
     "text": [
      "[11, 12, 13, 14, 15, 16, 17, 18, 19, 20]\n"
     ]
    }
   ],
   "source": [
    "print(list(r)) #type casting is converting range to list"
   ]
  },
  {
   "cell_type": "code",
   "execution_count": 23,
   "id": "bcb4690a",
   "metadata": {},
   "outputs": [
    {
     "name": "stdout",
     "output_type": "stream",
     "text": [
      "range(20, 10, -1)\n",
      "<class 'range'>\n",
      "10\n",
      "0x1e88a7959b0\n"
     ]
    }
   ],
   "source": [
    "r = range(20,10,-1)\n",
    "\n",
    "print(r,type(r), len(r),hex(id(r)),sep='\\n')"
   ]
  },
  {
   "cell_type": "code",
   "execution_count": 24,
   "id": "86959595",
   "metadata": {},
   "outputs": [
    {
     "name": "stdout",
     "output_type": "stream",
     "text": [
      "[20, 19, 18, 17, 16, 15, 14, 13, 12, 11]\n"
     ]
    }
   ],
   "source": [
    "print(list(r)) # type casting is converting range to list"
   ]
  },
  {
   "cell_type": "code",
   "execution_count": 26,
   "id": "7f8dde4a",
   "metadata": {},
   "outputs": [
    {
     "data": {
      "text/plain": [
       "([0, 1, 2, 3, 4], [0, 1, 2, 3, 4])"
      ]
     },
     "execution_count": 26,
     "metadata": {},
     "output_type": "execute_result"
    }
   ],
   "source": [
    "list(range(0,5,1)), list(range(5)) # start is '0' and step is 1"
   ]
  },
  {
   "cell_type": "markdown",
   "id": "6e2f2f2e",
   "metadata": {},
   "source": [
    "## Methods in list"
   ]
  },
  {
   "cell_type": "code",
   "execution_count": 31,
   "id": "d71cb057",
   "metadata": {
    "scrolled": false
   },
   "outputs": [
    {
     "data": {
      "text/plain": [
       "['__add__',\n",
       " '__class__',\n",
       " '__class_getitem__',\n",
       " '__contains__',\n",
       " '__delattr__',\n",
       " '__delitem__',\n",
       " '__dir__',\n",
       " '__doc__',\n",
       " '__eq__',\n",
       " '__format__',\n",
       " '__ge__',\n",
       " '__getattribute__',\n",
       " '__getitem__',\n",
       " '__getstate__',\n",
       " '__gt__',\n",
       " '__hash__',\n",
       " '__iadd__',\n",
       " '__imul__',\n",
       " '__init__',\n",
       " '__init_subclass__',\n",
       " '__iter__',\n",
       " '__le__',\n",
       " '__len__',\n",
       " '__lt__',\n",
       " '__mul__',\n",
       " '__ne__',\n",
       " '__new__',\n",
       " '__reduce__',\n",
       " '__reduce_ex__',\n",
       " '__repr__',\n",
       " '__reversed__',\n",
       " '__rmul__',\n",
       " '__setattr__',\n",
       " '__setitem__',\n",
       " '__sizeof__',\n",
       " '__str__',\n",
       " '__subclasshook__',\n",
       " 'append',\n",
       " 'clear',\n",
       " 'copy',\n",
       " 'count',\n",
       " 'extend',\n",
       " 'index',\n",
       " 'insert',\n",
       " 'pop',\n",
       " 'remove',\n",
       " 'reverse',\n",
       " 'sort']"
      ]
     },
     "execution_count": 31,
     "metadata": {},
     "output_type": "execute_result"
    }
   ],
   "source": [
    "dir(list)"
   ]
  },
  {
   "cell_type": "markdown",
   "id": "b2ba24b4",
   "metadata": {},
   "source": [
    "![](https://ipcisco.com/wp-content/uploads/2021/03/python-list-methods-www.ipcisco.com_.jpg)"
   ]
  },
  {
   "cell_type": "markdown",
   "id": "4c0fbe4f",
   "metadata": {},
   "source": [
    "### Adding elements in list"
   ]
  },
  {
   "cell_type": "markdown",
   "id": "3ee26bc4",
   "metadata": {},
   "source": [
    "### Append()"
   ]
  },
  {
   "cell_type": "markdown",
   "id": "5abae63e",
   "metadata": {},
   "source": [
    "* The append() method adds an item at the end of the list."
   ]
  },
  {
   "cell_type": "markdown",
   "id": "d843fed3",
   "metadata": {},
   "source": [
    "* Syntax:\n",
    "    * list.append(item)\n",
    "* Parameters:\n",
    "    * item (required): The element to be added to the list. This can be of any data type.\n",
    "\n",
    "* Return Value:\n",
    "    * The append() method does not return a new list; it directly modifies the original list by adding the specified item to the end."
   ]
  },
  {
   "cell_type": "code",
   "execution_count": 32,
   "id": "838c573f",
   "metadata": {},
   "outputs": [
    {
     "name": "stdout",
     "output_type": "stream",
     "text": [
      "Help on method_descriptor:\n",
      "\n",
      "append(self, object, /)\n",
      "    Append object to the end of the list.\n",
      "\n"
     ]
    }
   ],
   "source": [
    "help(list.append)"
   ]
  },
  {
   "cell_type": "code",
   "execution_count": 33,
   "id": "b432587f",
   "metadata": {},
   "outputs": [
    {
     "name": "stdout",
     "output_type": "stream",
     "text": [
      "[]\n",
      "<class 'list'>\n",
      "0\n",
      "0x1e88a746c00\n"
     ]
    }
   ],
   "source": [
    "l = []\n",
    "print(l, type(l), len(l), hex(id(l)), sep = '\\n')"
   ]
  },
  {
   "cell_type": "code",
   "execution_count": 34,
   "id": "a97356cb",
   "metadata": {},
   "outputs": [
    {
     "name": "stdout",
     "output_type": "stream",
     "text": [
      "[11]\n",
      "<class 'list'>\n",
      "1\n",
      "0x1e88a746c00\n"
     ]
    }
   ],
   "source": [
    "l.append(11)\n",
    "print(l, type(l), len(l), hex(id(l)), sep = '\\n')"
   ]
  },
  {
   "cell_type": "code",
   "execution_count": 35,
   "id": "3fb2b27c",
   "metadata": {},
   "outputs": [
    {
     "name": "stdout",
     "output_type": "stream",
     "text": [
      "[11, [1, 2, 3, 4, 5]]\n",
      "<class 'list'>\n",
      "2\n",
      "0x1e88a746c00\n"
     ]
    }
   ],
   "source": [
    "l.append([1,2,3,4,5])\n",
    "print(l, type(l), len(l), hex(id(l)), sep = '\\n')"
   ]
  },
  {
   "cell_type": "markdown",
   "id": "1fba30f4",
   "metadata": {},
   "source": [
    "### Extend()"
   ]
  },
  {
   "cell_type": "markdown",
   "id": "d1ce4f9c",
   "metadata": {},
   "source": [
    "* We use the extend() method to add all the items of an iterable (list, tuple, string, dictionary, etc.) to the end of the list."
   ]
  },
  {
   "cell_type": "markdown",
   "id": "d2904a4b",
   "metadata": {},
   "source": [
    "* Syntax:\n",
    "    * list.extend(iterable)\n",
    "* Parameters:\n",
    "    * iterable (required): The iterable from which elements will be appended to the list.\n",
    "* Return Value:\n",
    "    * The extend() method does not return a new list; it directly modifies the original list by appending elements from the iterable."
   ]
  },
  {
   "cell_type": "code",
   "execution_count": 36,
   "id": "92aab1ee",
   "metadata": {},
   "outputs": [
    {
     "name": "stdout",
     "output_type": "stream",
     "text": [
      "Help on method_descriptor:\n",
      "\n",
      "extend(self, iterable, /)\n",
      "    Extend list by appending elements from the iterable.\n",
      "\n"
     ]
    }
   ],
   "source": [
    "help(list.extend)"
   ]
  },
  {
   "cell_type": "code",
   "execution_count": 39,
   "id": "b8c52c98",
   "metadata": {},
   "outputs": [
    {
     "name": "stdout",
     "output_type": "stream",
     "text": [
      "[1, 2, 3, 4, 11, 22, 33]\n"
     ]
    }
   ],
   "source": [
    "x = [1,2,3,4]\n",
    "\n",
    "x.extend([11,22,33])\n",
    "print(x)"
   ]
  },
  {
   "cell_type": "code",
   "execution_count": 40,
   "id": "dd7c1c21",
   "metadata": {},
   "outputs": [
    {
     "name": "stdout",
     "output_type": "stream",
     "text": [
      "[1, 2, 3, 4, 11, 22, 33, 99, 100]\n"
     ]
    }
   ],
   "source": [
    "x.extend({99,100})\n",
    "print(x)"
   ]
  },
  {
   "cell_type": "markdown",
   "id": "07c03c23",
   "metadata": {},
   "source": [
    "### Insert()"
   ]
  },
  {
   "cell_type": "markdown",
   "id": "7972ff45",
   "metadata": {},
   "source": [
    "* We use the insert() method to add an element at the specified index."
   ]
  },
  {
   "cell_type": "markdown",
   "id": "e0f2f38f",
   "metadata": {},
   "source": [
    "* Syntax:\n",
    "    * list.insert(index, item)\n",
    "* Parameters:\n",
    "    * index (required): The index at which the element will be inserted. It must be an integer.\n",
    "    * item (required): The element that you want to insert into the list. This can be of any data type.\n",
    "* Return value:\n",
    "    * The insert() method does not return a new list; it directly modifies the original list by inserting the specified item at the specified index."
   ]
  },
  {
   "cell_type": "code",
   "execution_count": 41,
   "id": "9b340ca6",
   "metadata": {},
   "outputs": [
    {
     "name": "stdout",
     "output_type": "stream",
     "text": [
      "Help on method_descriptor:\n",
      "\n",
      "insert(self, index, object, /)\n",
      "    Insert object before index.\n",
      "\n"
     ]
    }
   ],
   "source": [
    "help(list.insert)"
   ]
  },
  {
   "cell_type": "code",
   "execution_count": 42,
   "id": "358ccf1a",
   "metadata": {},
   "outputs": [
    {
     "data": {
      "text/plain": [
       "[1, 2, 3, 4, 11, 22, 33, 99, 100]"
      ]
     },
     "execution_count": 42,
     "metadata": {},
     "output_type": "execute_result"
    }
   ],
   "source": [
    "x"
   ]
  },
  {
   "cell_type": "code",
   "execution_count": 43,
   "id": "88bd7dbe",
   "metadata": {},
   "outputs": [
    {
     "data": {
      "text/plain": [
       "[1, 2, 99999, 3, 4, 11, 22, 33, 99, 100]"
      ]
     },
     "execution_count": 43,
     "metadata": {},
     "output_type": "execute_result"
    }
   ],
   "source": [
    "x.insert(2,99999)\n",
    "x"
   ]
  },
  {
   "cell_type": "code",
   "execution_count": 44,
   "id": "f826e66a",
   "metadata": {},
   "outputs": [
    {
     "data": {
      "text/plain": [
       "[1, 2, 99999, 3, 4, 11, 22, 33, 52, 99, 100]"
      ]
     },
     "execution_count": 44,
     "metadata": {},
     "output_type": "execute_result"
    }
   ],
   "source": [
    "x.insert(-2,52)\n",
    "x"
   ]
  },
  {
   "cell_type": "markdown",
   "id": "92952636",
   "metadata": {},
   "source": [
    "### Deleting items in list"
   ]
  },
  {
   "cell_type": "markdown",
   "id": "b1e8ddab",
   "metadata": {},
   "source": [
    "### Remove()"
   ]
  },
  {
   "cell_type": "markdown",
   "id": "47203c7f",
   "metadata": {},
   "source": [
    "* remove() is an inbuilt function that removes a given object from the List.it acts on elements only i.e., it removes only first occurence from the list."
   ]
  },
  {
   "cell_type": "markdown",
   "id": "792eb364",
   "metadata": {},
   "source": [
    "* Syntax: \n",
    "    * list_name.remove(obj)\n",
    "* Parameters:\n",
    "    * obj: object to be removed from the list\n",
    "* Returns:\n",
    "    * It does not return any value but removes the given object from the list."
   ]
  },
  {
   "cell_type": "code",
   "execution_count": 45,
   "id": "304cc236",
   "metadata": {},
   "outputs": [
    {
     "name": "stdout",
     "output_type": "stream",
     "text": [
      "Help on method_descriptor:\n",
      "\n",
      "remove(self, value, /)\n",
      "    Remove first occurrence of value.\n",
      "    \n",
      "    Raises ValueError if the value is not present.\n",
      "\n"
     ]
    }
   ],
   "source": [
    "help(list.remove)"
   ]
  },
  {
   "cell_type": "code",
   "execution_count": 46,
   "id": "c633eb5f",
   "metadata": {},
   "outputs": [
    {
     "data": {
      "text/plain": [
       "['a', 'p', 'p', 'l', 'e']"
      ]
     },
     "execution_count": 46,
     "metadata": {},
     "output_type": "execute_result"
    }
   ],
   "source": [
    "x = list('apple')\n",
    "x"
   ]
  },
  {
   "cell_type": "code",
   "execution_count": 48,
   "id": "d30e4392",
   "metadata": {},
   "outputs": [
    {
     "data": {
      "text/plain": [
       "['p', 'p', 'l', 'e']"
      ]
     },
     "execution_count": 48,
     "metadata": {},
     "output_type": "execute_result"
    }
   ],
   "source": [
    "x.remove('a')\n",
    "x"
   ]
  },
  {
   "cell_type": "markdown",
   "id": "a156c70f",
   "metadata": {},
   "source": [
    "### Pop()"
   ]
  },
  {
   "cell_type": "markdown",
   "id": "44449ef8",
   "metadata": {},
   "source": [
    "* The list pop() method removes the item at the specified index. The method also returns the removed item."
   ]
  },
  {
   "cell_type": "markdown",
   "id": "f4443b2a",
   "metadata": {},
   "source": [
    "* Syntax: \n",
    "    * list_name.pop(index)\n",
    "* parameters:\n",
    "    * index (optional) – The value at index is popped out and removed. If the index is not given, then the last element is popped out and removed.\n",
    "* Return:\n",
    "    * Returns The last value or the given index value from the list.\n",
    "    * Exception: Raises IndexError When the index is out of range.\n"
   ]
  },
  {
   "cell_type": "code",
   "execution_count": 50,
   "id": "c12f4473",
   "metadata": {},
   "outputs": [
    {
     "name": "stdout",
     "output_type": "stream",
     "text": [
      "Help on method_descriptor:\n",
      "\n",
      "pop(self, index=-1, /)\n",
      "    Remove and return item at index (default last).\n",
      "    \n",
      "    Raises IndexError if list is empty or index is out of range.\n",
      "\n"
     ]
    }
   ],
   "source": [
    "help(list.pop)"
   ]
  },
  {
   "cell_type": "code",
   "execution_count": 51,
   "id": "b02c24c8",
   "metadata": {},
   "outputs": [
    {
     "data": {
      "text/plain": [
       "55"
      ]
     },
     "execution_count": 51,
     "metadata": {},
     "output_type": "execute_result"
    }
   ],
   "source": [
    "l = [11,22,33,44,55]\n",
    "l.pop()"
   ]
  },
  {
   "cell_type": "code",
   "execution_count": 52,
   "id": "b7e644e4",
   "metadata": {},
   "outputs": [
    {
     "data": {
      "text/plain": [
       "(55, [11, 22, 33, 44])"
      ]
     },
     "execution_count": 52,
     "metadata": {},
     "output_type": "execute_result"
    }
   ],
   "source": [
    "l = [11,22,33,44,55]\n",
    "a = l.pop()\n",
    "a,l"
   ]
  },
  {
   "cell_type": "code",
   "execution_count": null,
   "id": "0e8109b4",
   "metadata": {},
   "outputs": [],
   "source": []
  }
 ],
 "metadata": {
  "kernelspec": {
   "display_name": "Python 3 (ipykernel)",
   "language": "python",
   "name": "python3"
  },
  "language_info": {
   "codemirror_mode": {
    "name": "ipython",
    "version": 3
   },
   "file_extension": ".py",
   "mimetype": "text/x-python",
   "name": "python",
   "nbconvert_exporter": "python",
   "pygments_lexer": "ipython3",
   "version": "3.11.5"
  }
 },
 "nbformat": 4,
 "nbformat_minor": 5
}
